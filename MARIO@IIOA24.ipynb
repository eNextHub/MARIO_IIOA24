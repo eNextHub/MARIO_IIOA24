{
 "cells": [
  {
   "cell_type": "markdown",
   "metadata": {},
   "source": [
    "# Input-Output Analysis and Modelling with MARIO \n",
    "\n",
    "##### 12th Edition of the International School of IO Analysis\n",
    "\n",
    "Authors: Nicolò Golinucci, Lorenzo Rinaldi & Matteo Vincenzo Rocco\n",
    "\n",
    "Affiliated to eNextGen, Politecnico di Milano\n",
    "\n",
    "---\n",
    "\n",
    "\n",
    "## Welcome to the School!\n",
    "In this module, we are going to show how to use MARIO, an open-source software based on Python, inspired from [pymrio](https://pymrio.readthedocs.io/en/latest/), designed to handle any SUT or IOT table and perform easy calculations and modelling analyses.\n",
    "\n",
    "In particular, today we are going to navigate through the following functionalities:\n",
    "- Downloading & Parsing\n",
    "- Aggregation\n",
    "- Navigation utilities\n",
    "- SUT-to-IOT transformation\n",
    "- Shock analyses\n",
    "\n",
    "\n",
    "### Downloading & Parsing\n",
    "MARIO allows for parsing a variety of standardly adopted databases, in particular: \n",
    "- EXIOBASE, in many different versions:\n",
    "    - Monetary SUTs v3.8.2, available on [Zenodo](https://zenodo.org/records/5589597) (documented MARIO example [here](https://mario-suite.readthedocs.io/en/latest/examples/tutorial_parse_exiobase_monetary/tutorial_parse_exiobase_monetary.html))\n",
    "    - Monetary IOTs v3.8.2, available on [Zenodo](https://zenodo.org/records/5589597) (documented MARIO example [here](https://mario-suite.readthedocs.io/en/latest/examples/tutorial_parse_exiobase_monetary/tutorial_parse_exiobase_monetary.html))\n",
    "    - Hybrid SUT v3.3.18, available on [Zenodo](https://zenodo.org/records/7244919) (documented MARIO example [here](https://mario-suite.readthedocs.io/en/latest/examples/tutorial_parse_exiobase_hybrid/tutorial_parse_exiobase_hybrid.html))\n",
    "\n",
    "- EORA, both single- and multi-regional tables (EORA26), available on its [official website](https://www.worldmrio.com) (documented MARIO example [here](https://mario-suite.readthedocs.io/en/latest/examples/tutorial_parse_eora/tutorial_parse_eora.html))\n",
    "\n",
    "- FIGARO (only SUT tables), available on [Eurostat](https://ec.europa.eu/eurostat/web/esa-supply-use-input-tables/database) (documented MARIO example [here](https://mario-suite.readthedocs.io/en/latest/examples/tutorial_figaro_parser/tutorial_figaro_parser.html))\n",
    "\n",
    "- Custom databases from Excel files or txt (documented MARIO example [here](https://mario-suite.readthedocs.io/en/latest/examples/tutorial_parse_custom_database/tutorial_parse_custom_database.html))\n",
    "\n",
    "\n",
    "#### Practical example: FIGARO download & parser\n",
    "\n",
    "In this example we will see how to parse FIGARO supply-use tables.\n",
    "First we need to provide the path in your computer where you desire to store the table. Then the 'download_figaro' method will need just the type of table (SUT or IOT), the year and, of course, the path."
   ]
  },
  {
   "cell_type": "code",
   "execution_count": null,
   "metadata": {},
   "outputs": [],
   "source": [
    "# (Optional but recommended step) MARIO dependencies are being updated, and you might have future warnings related to them. We switch them off!\n",
    "import warnings\n",
    "warnings.simplefilter(action='ignore', category=FutureWarning)"
   ]
  },
  {
   "cell_type": "code",
   "execution_count": null,
   "metadata": {},
   "outputs": [],
   "source": [
    "import mario\n",
    "\n",
    "save_path = \"database/FIGARO/2021\"\n",
    "\n",
    "# Download Figaro\n",
    "mario.download_figaro(\n",
    "    table = \"SUT\",\n",
    "    year = 2021,\n",
    "    path = save_path\n",
    "\n",
    ")"
   ]
  },
  {
   "cell_type": "markdown",
   "metadata": {},
   "source": [
    "Once downloaded, use the 'parse_FIGARO_SUT' method, providing the path where you stored the downloaded tables. MARIO will create a Database object, which we call 'world' since FIGARO is a global MRIO table (this choice is of course arbitrary)"
   ]
  },
  {
   "cell_type": "code",
   "execution_count": null,
   "metadata": {},
   "outputs": [],
   "source": [
    "world = mario.parse_FIGARO_SUT(save_path)"
   ]
  },
  {
   "cell_type": "markdown",
   "metadata": {},
   "source": [
    "#### Aggregation\n",
    "For the sake of keeping things simple at the beginning, we proceed to aggregate the table into a smaller ones so that we can check all the next steps in parallel with an Excel conterfactual. \n",
    "MARIO allows the user to fill an Excel template to help the user provide the information on what and how to aggregate via the \"get_aggregation_excel\" method"
   ]
  },
  {
   "cell_type": "code",
   "execution_count": null,
   "metadata": {},
   "outputs": [],
   "source": [
    "path_aggr = 'database/FIGARO/Aggregations/conceptual_aggregation_blank.xlsx'\n",
    "\n",
    "world.get_aggregation_excel(\n",
    "    path = path_aggr,\n",
    ")"
   ]
  },
  {
   "cell_type": "markdown",
   "metadata": {},
   "source": [
    "Once the Excel template is filled, the user can pass the information to MARIO via the \"aggregate\" method"
   ]
  },
  {
   "cell_type": "code",
   "execution_count": null,
   "metadata": {},
   "outputs": [],
   "source": [
    "path_aggr = 'database/FIGARO/Aggregations/conceptual_aggregation_filled.xlsx'\n",
    "\n",
    "world.aggregate(\n",
    "    io=path_aggr,\n",
    "    levels = [\n",
    "        \"Region\",\n",
    "        \"Activity\",\n",
    "        \"Commodity\"\n",
    "    ]\n",
    ")"
   ]
  },
  {
   "cell_type": "markdown",
   "metadata": {},
   "source": [
    "#### Exporting table to Excel\n",
    "\n",
    "It is possible to export the table to Excel (or to a set of txt files) adopting the \"to_excel\" method. By default, MARIO will export the absolute values (or \"flows\") matrices and not the coefficients (which can actually be requested)"
   ]
  },
  {
   "cell_type": "code",
   "execution_count": null,
   "metadata": {},
   "outputs": [],
   "source": [
    "path_concept_table = f'database/FIGARO/conceptual_excel_table.xlsx'\n",
    "\n",
    "world.to_excel(\n",
    "    path=path_concept_table,\n",
    "    flows=True,\n",
    "    # coefficients=True, # Uncomment to include coefficients\n",
    "    )"
   ]
  },
  {
   "cell_type": "markdown",
   "metadata": {},
   "source": [
    "#### Navigating table's properties\n",
    "\n",
    "Once parsed, it is possible to check some basic information and properties characterizing the table. Just by calling the name of the database object, MARIO returns the sets of the tables in terms of number of regions, activities, commodities and others."
   ]
  },
  {
   "cell_type": "code",
   "execution_count": null,
   "metadata": {},
   "outputs": [],
   "source": [
    "world"
   ]
  },
  {
   "cell_type": "markdown",
   "metadata": {},
   "source": [
    "It is also useful to get a list of a given set, via the \"get_index\": it is enough to pass the name of the set, which must be with the FIRST CAPITAL LETTER and SINGULAR"
   ]
  },
  {
   "cell_type": "code",
   "execution_count": null,
   "metadata": {},
   "outputs": [],
   "source": [
    "world.get_index('Activity')"
   ]
  },
  {
   "cell_type": "code",
   "execution_count": null,
   "metadata": {},
   "outputs": [],
   "source": [
    "world.get_index('Region')"
   ]
  },
  {
   "cell_type": "markdown",
   "metadata": {},
   "source": [
    "##### Navigating & Calculating table's matrices\n",
    "\n",
    "Additionally, it is possible to go through the table's matrices and calculate new ones (i.e. coefficients).\n",
    "To get a matrix from a database object, it is enough to call the attribute with the name of the matrix itself: MARIO will return the matrix, calculating it first if not available.\n",
    "\n",
    "N.B. Terminology adopted in MARIO is available in the [documentation](https://mario-suite.readthedocs.io/en/latest/terminology.html)"
   ]
  },
  {
   "cell_type": "code",
   "execution_count": null,
   "metadata": {},
   "outputs": [],
   "source": [
    "world.Y"
   ]
  },
  {
   "cell_type": "code",
   "execution_count": null,
   "metadata": {},
   "outputs": [],
   "source": [
    "world.is_balanced('coefficients')"
   ]
  },
  {
   "cell_type": "markdown",
   "metadata": {},
   "source": [
    "##### Adding environmental extensions\n",
    "\n",
    "A table can be environmentally extended with custom satellite accounts in case they are missing.\n",
    "MARIO allows to do so via the \"add_extensions\" method. Before that, as for the aggregation, it is possible to call the \"get_extensions_excel\" to ask MARIO for a template to fill with the desired data. Accounts can be provided in the \"V\" (think of hybrid-units tables for instance) or in the \"E\" matrices.\n",
    "\n",
    "We are going to add the extensions to the full FIGARO table. Therefore we are going to parse it back from where we downloaded at the beginning"
   ]
  },
  {
   "cell_type": "code",
   "execution_count": null,
   "metadata": {},
   "outputs": [],
   "source": [
    "world = mario.parse_FIGARO_SUT('database/FIGARO/2021')"
   ]
  },
  {
   "cell_type": "markdown",
   "metadata": {},
   "source": [
    "After re-parsing, chose a path where to print the Excel template and call the 'get_extensions_excel' method, specifying also the matrix equal to 'E'"
   ]
  },
  {
   "cell_type": "code",
   "execution_count": null,
   "metadata": {},
   "outputs": [],
   "source": [
    "extensions_path = 'database/FIGARO/Extensions/extensions_blank.xlsx'\n",
    "world.get_extensions_excel(path=extensions_path, matrix='E')"
   ]
  },
  {
   "cell_type": "markdown",
   "metadata": {},
   "source": [
    "For this occasion, we already prepared the emissions accounts, taken from the Exiobase database after aggregating it according to FIGARO resolution.\n",
    "To use the 'add_extensions' method, it is also necessary to prepare a DataFrame with the units (it can be done also preparing it in Excel)"
   ]
  },
  {
   "cell_type": "code",
   "execution_count": null,
   "metadata": {},
   "outputs": [],
   "source": [
    "units = pd.DataFrame('kg',index=['CO2','CH4','N2O'],columns=['units'])\n",
    "world.add_extensions(io='database/FIGARO/Extensions/extensions_filled.xlsx', matrix='E',units=units)"
   ]
  },
  {
   "cell_type": "markdown",
   "metadata": {},
   "source": []
  }
 ],
 "metadata": {
  "kernelspec": {
   "display_name": "mario",
   "language": "python",
   "name": "python3"
  },
  "language_info": {
   "codemirror_mode": {
    "name": "ipython",
    "version": 3
   },
   "file_extension": ".py",
   "mimetype": "text/x-python",
   "name": "python",
   "nbconvert_exporter": "python",
   "pygments_lexer": "ipython3",
   "version": "3.10.14"
  }
 },
 "nbformat": 4,
 "nbformat_minor": 2
}
